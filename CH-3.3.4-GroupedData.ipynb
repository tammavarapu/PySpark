{
 "cells": [
  {
   "cell_type": "code",
   "execution_count": null,
   "metadata": {},
   "outputs": [],
   "source": [
    "pyspark.sql.GroupedData:\n",
    "========================\n",
    "built-in aggregation functions, such as avg, max, min, sum, count\n",
    "group aggregate pandas UDFs, created with pyspark.sql.functions.pandas_udf()\n",
    "\n",
    "agg()\n",
    "df.groupBy().agg({\"age\":\"count\"}).show()\n",
    "\n",
    "avg() - average values for each numeric columns for each group.\n",
    "df.groupby().avg('age').show()\n",
    "df.groupby().avg('Id','age').show()\n",
    "\n",
    "count() - Counts the number of records for each group.\n",
    "df.groupby(df.age).count().show()\n",
    "\n",
    "max() - max value for each numeric columns for each group.\n",
    "df.groupby().max('age').collect()\n",
    "\n",
    "min() - min value for each numeric column for each group.\n",
    "df.groupby().min('age').collect()\n",
    "\n",
    "mean() - average values for each numeric columns for each group.\n",
    "df.groupby().mean('age').show()\n",
    "\n",
    "pivot(pivot_col, values=None)\n",
    "# Compute the sum of earnings for each year by course with each course as a separate column for each group.\n",
    "df.groupBy('year').pivot('course',['dotNET','Java']).sum('earnings').show()\n",
    "\n",
    "# Or without specifying column values (less efficient)\n",
    "df.groupBy(\"year\").pivot(\"course\").sum(\"earnings\").collect()\n",
    "df5.groupBy(\"sales.year\").pivot(\"sales.course\").sum(\"sales.earnings\").collect()\n",
    "\n",
    "sum() - sum for each numeric columns for each group.\n",
    "df.groupBy().sum('age').show()"
   ]
  }
 ],
 "metadata": {
  "kernelspec": {
   "display_name": "Python 3",
   "language": "python",
   "name": "python3"
  },
  "language_info": {
   "codemirror_mode": {
    "name": "ipython",
    "version": 3
   },
   "file_extension": ".py",
   "mimetype": "text/x-python",
   "name": "python",
   "nbconvert_exporter": "python",
   "pygments_lexer": "ipython3",
   "version": "3.6.5"
  }
 },
 "nbformat": 4,
 "nbformat_minor": 2
}
