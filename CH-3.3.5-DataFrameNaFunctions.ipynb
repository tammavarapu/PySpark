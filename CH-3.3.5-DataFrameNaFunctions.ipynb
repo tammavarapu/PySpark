{
 "cells": [
  {
   "cell_type": "code",
   "execution_count": null,
   "metadata": {},
   "outputs": [],
   "source": [
    "DataFrameNaFunctions: working with missing data in DataFrame.\n",
    "===================== \n",
    "dropna(how='any', thresh=None, subset=None)\n",
    "\tReturns a new DataFrame omitting rows with null values. \n",
    "\tDataFrame.dropna() and DataFrameNaFunctions.drop() are aliases of each other.\n",
    "df.na.drop().show()\n",
    "\n",
    "fillna(value, subset=None)\n",
    "\tReplace null values, alias for na.fill(). \n",
    "\tDataFrame.fillna() and DataFrameNaFunctions.fill() are aliases of each other.\n",
    "df.na.fill(50).show()\n",
    "df.na.fill(False).show()\n",
    "df.na.fill({'id':50,'name':'unknow'}).show()\t\n",
    "\n",
    "replace(to_replace, value=<no value>, subset=None)\n",
    "\tReturns a new DataFrame replacing a value with another value. \n",
    "\tDataFrame.replace() and DataFrameNaFunctions.replace()\n",
    "df.na.replace(10,20).show()\n",
    "df.na.replace('sam',None).show()\n",
    "df.na.replace({'sam',None}).show()\n",
    "df4.na.replace(['Alice', 'Bob'], ['A', 'B'], 'name').show()"
   ]
  }
 ],
 "metadata": {
  "kernelspec": {
   "display_name": "Python 3",
   "language": "python",
   "name": "python3"
  },
  "language_info": {
   "codemirror_mode": {
    "name": "ipython",
    "version": 3
   },
   "file_extension": ".py",
   "mimetype": "text/x-python",
   "name": "python",
   "nbconvert_exporter": "python",
   "pygments_lexer": "ipython3",
   "version": "3.6.5"
  }
 },
 "nbformat": 4,
 "nbformat_minor": 2
}
